{
 "cells": [
  {
   "cell_type": "markdown",
   "metadata": {
    "id": "y_ohotn_qybF"
   },
   "source": [
    "\n",
    "# **Instructions**:\n",
    "\n",
    "### 1 - Upload this notebook on [Google Colab](https://colab.research.google.com/) (this notebook need to run on Google Colab).\n",
    "### 2 - Open the notebook on Google Colab.\n",
    "### 3 - Change the Google Colab runtime to \"GPU\" by navigating to \"Runtime\" > \"Change runtime type\"\n",
    "### 4 - Run all cells to start training your model.\n",
    "### 5 - After the last command finish its execution, copy the file ```yolov4-tiny/training/yolov4-tiny-custom_last.weights``` from your google drive to the cloned project in the same folder as the 4_yolo_opencv_detector notebook.\n"
   ]
  },
  {
   "cell_type": "code",
   "execution_count": 1,
   "metadata": {
    "id": "sLELVfEKDnI_"
   },
   "outputs": [
    {
     "name": "stderr",
     "output_type": "stream",
     "text": [
      "Cloning into 'darknet'...\n",
      "Updating files:  74% (1523/2055)\n",
      "Updating files:  75% (1542/2055)\n",
      "Updating files:  76% (1562/2055)\n",
      "Updating files:  77% (1583/2055)\n",
      "Updating files:  78% (1603/2055)\n",
      "Updating files:  79% (1624/2055)\n",
      "Updating files:  80% (1644/2055)\n",
      "Updating files:  81% (1665/2055)\n",
      "Updating files:  82% (1686/2055)\n",
      "Updating files:  83% (1706/2055)\n",
      "Updating files:  84% (1727/2055)\n",
      "Updating files:  85% (1747/2055)\n",
      "Updating files:  86% (1768/2055)\n",
      "Updating files:  87% (1788/2055)\n",
      "Updating files:  88% (1809/2055)\n",
      "Updating files:  89% (1829/2055)\n",
      "Updating files:  90% (1850/2055)\n",
      "Updating files:  91% (1871/2055)\n",
      "Updating files:  92% (1891/2055)\n",
      "Updating files:  93% (1912/2055)\n",
      "Updating files:  94% (1932/2055)\n",
      "Updating files:  95% (1953/2055)\n",
      "Updating files:  96% (1973/2055)\n",
      "Updating files:  97% (1994/2055)\n",
      "Updating files:  98% (2014/2055)\n",
      "Updating files:  99% (2035/2055)\n",
      "Updating files: 100% (2055/2055)\n",
      "Updating files: 100% (2055/2055), done.\n"
     ]
    }
   ],
   "source": [
    "!git clone https://github.com/AlexeyAB/darknet"
   ]
  },
  {
   "cell_type": "code",
   "execution_count": 2,
   "metadata": {
    "id": "UcHcVVfHRqx5"
   },
   "outputs": [
    {
     "name": "stderr",
     "output_type": "stream",
     "text": [
      "C:\\Users\\brice\\AppData\\Local\\Packages\\PythonSoftwareFoundation.Python.3.11_qbz5n2kfra8p0\\LocalCache\\local-packages\\Python311\\site-packages\\IPython\\core\\magics\\osm.py:417: UserWarning: This is now an optional IPython functionality, setting dhist requires you to install the `pickleshare` library.\n",
      "  self.shell.db['dhist'] = compress_dhist(dhist)[-100:]\n"
     ]
    },
    {
     "name": "stdout",
     "output_type": "stream",
     "text": [
      "c:\\Users\\brice\\Downloads\\yolo-opencv-detector-main\n"
     ]
    },
    {
     "ename": "ModuleNotFoundError",
     "evalue": "No module named 'google.colab'",
     "output_type": "error",
     "traceback": [
      "\u001b[1;31m---------------------------------------------------------------------------\u001b[0m",
      "\u001b[1;31mModuleNotFoundError\u001b[0m                       Traceback (most recent call last)",
      "Cell \u001b[1;32mIn[2], line 2\u001b[0m\n\u001b[0;32m      1\u001b[0m get_ipython()\u001b[38;5;241m.\u001b[39mrun_line_magic(\u001b[38;5;124m'\u001b[39m\u001b[38;5;124mcd\u001b[39m\u001b[38;5;124m'\u001b[39m, \u001b[38;5;124m'\u001b[39m\u001b[38;5;124m..\u001b[39m\u001b[38;5;124m'\u001b[39m)\n\u001b[1;32m----> 2\u001b[0m \u001b[38;5;28;01mfrom\u001b[39;00m \u001b[38;5;21;01mgoogle\u001b[39;00m\u001b[38;5;21;01m.\u001b[39;00m\u001b[38;5;21;01mcolab\u001b[39;00m \u001b[38;5;28;01mimport\u001b[39;00m drive\n\u001b[0;32m      3\u001b[0m drive\u001b[38;5;241m.\u001b[39mmount(\u001b[38;5;124m'\u001b[39m\u001b[38;5;124m/content/gdrive\u001b[39m\u001b[38;5;124m'\u001b[39m)\n\u001b[0;32m      5\u001b[0m get_ipython()\u001b[38;5;241m.\u001b[39msystem(\u001b[38;5;124m'\u001b[39m\u001b[38;5;124mln -s /content/gdrive/My\u001b[39m\u001b[38;5;130;01m\\\\\u001b[39;00m\u001b[38;5;124m Drive/ /mydrive\u001b[39m\u001b[38;5;124m'\u001b[39m)\n",
      "\u001b[1;31mModuleNotFoundError\u001b[0m: No module named 'google.colab'"
     ]
    }
   ],
   "source": [
    "%cd ..\n",
    "from google.colab import drive\n",
    "drive.mount('/content/gdrive')\n",
    "\n",
    "!ln -s /content/gdrive/My\\ Drive/ /mydrive"
   ]
  },
  {
   "cell_type": "code",
   "execution_count": null,
   "metadata": {
    "id": "fHdLgyNRqP1X"
   },
   "outputs": [],
   "source": [
    "!ls /mydrive/yolov4-tiny"
   ]
  },
  {
   "cell_type": "code",
   "execution_count": null,
   "metadata": {
    "id": "vRx_2ufLYKzq"
   },
   "outputs": [],
   "source": [
    "%cd /content/darknet/\n",
    "!sed -i 's/OPENCV=0/OPENCV=1/' Makefile\n",
    "!sed -i 's/GPU=0/GPU=1/' Makefile\n",
    "!sed -i 's/CUDNN=0/CUDNN=1/' Makefile\n",
    "!sed -i 's/CUDNN_HALF=0/CUDNN_HALF=1/' Makefile\n",
    "!sed -i 's/LIBSO=0/LIBSO=1/' Makefile"
   ]
  },
  {
   "cell_type": "code",
   "execution_count": null,
   "metadata": {
    "id": "YgWuHt3GK3Gz"
   },
   "outputs": [],
   "source": [
    "!make"
   ]
  },
  {
   "cell_type": "code",
   "execution_count": null,
   "metadata": {
    "id": "PJ12EpatuOdw"
   },
   "outputs": [],
   "source": [
    "%cd data/\n",
    "!find -maxdepth 1 -type f -exec rm -rf {} \\;\n",
    "%cd ..\n",
    "\n",
    "%rm -rf cfg/\n",
    "%mkdir cfg"
   ]
  },
  {
   "cell_type": "code",
   "execution_count": null,
   "metadata": {
    "id": "eUeBO88DuSdj"
   },
   "outputs": [],
   "source": [
    "!cp /mydrive/yolov4-tiny/obj.zip ../\n",
    "!unzip ../obj.zip -d data/\n",
    "\n",
    "!cp /mydrive/yolov4-tiny/yolov4-tiny-custom.cfg ./cfg\n",
    "!cp /mydrive/yolov4-tiny/obj.names ./data\n",
    "!cp /mydrive/yolov4-tiny/obj.data  ./data\n",
    "!cp /mydrive/yolov4-tiny/process.py ./\n",
    "!cp /mydrive/yolov4-tiny/yolov4-tiny.conv.29 ./"
   ]
  },
  {
   "cell_type": "code",
   "execution_count": null,
   "metadata": {
    "id": "N8JDSBpwusXn"
   },
   "outputs": [],
   "source": [
    "!python process.py"
   ]
  },
  {
   "cell_type": "code",
   "execution_count": null,
   "metadata": {
    "id": "omzY915VqWS8"
   },
   "outputs": [],
   "source": [
    "!ls data/"
   ]
  },
  {
   "cell_type": "code",
   "execution_count": null,
   "metadata": {
    "id": "iblRcnnSu1Uq"
   },
   "outputs": [],
   "source": [
    "!./darknet detector train data/obj.data cfg/yolov4-tiny-custom.cfg yolov4-tiny.conv.29 -dont_show"
   ]
  }
 ],
 "metadata": {
  "accelerator": "GPU",
  "colab": {
   "gpuType": "T4",
   "provenance": []
  },
  "kernelspec": {
   "display_name": "Python 3",
   "language": "python",
   "name": "python3"
  },
  "language_info": {
   "codemirror_mode": {
    "name": "ipython",
    "version": 3
   },
   "file_extension": ".py",
   "mimetype": "text/x-python",
   "name": "python",
   "nbconvert_exporter": "python",
   "pygments_lexer": "ipython3",
   "version": "3.11.9"
  }
 },
 "nbformat": 4,
 "nbformat_minor": 1
}
